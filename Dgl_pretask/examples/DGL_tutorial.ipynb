{
 "nbformat": 4,
 "nbformat_minor": 0,
 "metadata": {
  "colab": {
   "name": "DGL_tutorial.ipynb",
   "provenance": [],
   "toc_visible": true,
   "include_colab_link": true
  },
  "kernelspec": {
   "name": "python3",
   "language": "python",
   "display_name": "Python 3 (ipykernel)"
  },
  "language_info": {
   "name": "python"
  }
 },
 "cells": [
  {
   "cell_type": "markdown",
   "metadata": {
    "id": "view-in-github",
    "colab_type": "text"
   },
   "source": [
    "<a href=\"https://colab.research.google.com/github/YasminHeimann/Graph_Anomaly/blob/master/DGL_tutorial.ipynb\" target=\"_parent\"><img src=\"https://colab.research.google.com/assets/colab-badge.svg\" alt=\"Open In Colab\"/></a>"
   ]
  },
  {
   "cell_type": "markdown",
   "metadata": {
    "id": "Hc51vLuDOjne"
   },
   "source": [
    "**Basic DGL tutorial, training a 2-layer GCN**\n",
    "\n"
   ]
  },
  {
   "cell_type": "code",
   "metadata": {
    "colab": {
     "base_uri": "https://localhost:8080/"
    },
    "id": "wUzl_ZC1xGQl",
    "outputId": "b34ccf45-d491-46ee-cf76-25a82866c58e"
   },
   "source": [
    "# pip install dgl\n"
   ],
   "execution_count": 3,
   "outputs": []
  },
  {
   "cell_type": "code",
   "metadata": {
    "colab": {
     "base_uri": "https://localhost:8080/"
    },
    "id": "DIlrx28rxnVp",
    "outputId": "9e7475a3-c5c9-43d7-f980-a4282da3c8e9"
   },
   "source": [
    "print(\"finished dgl finished dgl installation\")"
   ],
   "execution_count": 5,
   "outputs": [
    {
     "name": "stdout",
     "output_type": "stream",
     "text": [
      "finished dgl finished dgl installation\n"
     ]
    }
   ]
  },
  {
   "cell_type": "code",
   "metadata": {
    "colab": {
     "base_uri": "https://localhost:8080/"
    },
    "id": "SThLLUdzKN1Y",
    "outputId": "21f15ccc-b64a-49cd-d1a1-81070dbbd5a0"
   },
   "source": [
    "import dgl\n",
    "import torch\n",
    "import torch.nn as nn\n",
    "import torch.nn.functional as F\n"
   ],
   "execution_count": 3,
   "outputs": [
    {
     "name": "stderr",
     "output_type": "stream",
     "text": [
      "Using backend: pytorch\n"
     ]
    }
   ]
  },
  {
   "cell_type": "markdown",
   "metadata": {
    "id": "ZwXWTlIRKklN"
   },
   "source": [
    "Get dataset from DGL for Node Classification"
   ]
  },
  {
   "cell_type": "code",
   "metadata": {
    "colab": {
     "base_uri": "https://localhost:8080/"
    },
    "id": "M-3foJATKueH",
    "outputId": "76ef9ce2-3649-496d-fcea-88ae89d5b88f"
   },
   "source": [
    "import dgl.data\n",
    "\n",
    "dataset = dgl.data.CoraGraphDataset()\n",
    "print('\\nNumber of categories:', dataset.num_classes)\n",
    "# cora db has one graph\n",
    "g = dataset[0]\n",
    "print('Node features')\n",
    "print(g.ndata)\n",
    "print('Edge features')\n",
    "print(g.edata)"
   ],
   "execution_count": 4,
   "outputs": [
    {
     "name": "stdout",
     "output_type": "stream",
     "text": [
      "Downloading C:\\Users\\avdar\\.dgl\\cora_v2.zip from https://data.dgl.ai/dataset/cora_v2.zip...\n",
      "Extracting file to C:\\Users\\avdar\\.dgl\\cora_v2\n",
      "Finished data loading and preprocessing.\n",
      "  NumNodes: 2708\n",
      "  NumEdges: 10556\n",
      "  NumFeats: 1433\n",
      "  NumClasses: 7\n",
      "  NumTrainingSamples: 140\n",
      "  NumValidationSamples: 500\n",
      "  NumTestSamples: 1000\n",
      "Done saving data into cached files.\n",
      "\n",
      "Number of categories: 7\n",
      "Node features\n",
      "{'train_mask': tensor([ True,  True,  True,  ..., False, False, False]), 'val_mask': tensor([False, False, False,  ..., False, False, False]), 'test_mask': tensor([False, False, False,  ...,  True,  True,  True]), 'label': tensor([3, 4, 4,  ..., 3, 3, 3]), 'feat': tensor([[0., 0., 0.,  ..., 0., 0., 0.],\n",
      "        [0., 0., 0.,  ..., 0., 0., 0.],\n",
      "        [0., 0., 0.,  ..., 0., 0., 0.],\n",
      "        ...,\n",
      "        [0., 0., 0.,  ..., 0., 0., 0.],\n",
      "        [0., 0., 0.,  ..., 0., 0., 0.],\n",
      "        [0., 0., 0.,  ..., 0., 0., 0.]])}\n",
      "Edge features\n",
      "{}\n"
     ]
    }
   ]
  },
  {
   "cell_type": "markdown",
   "metadata": {
    "id": "gIKZUNwhMy1W"
   },
   "source": [
    "**Define GCN model**"
   ]
  },
  {
   "cell_type": "code",
   "metadata": {
    "colab": {
     "base_uri": "https://localhost:8080/"
    },
    "id": "VsFf7eMoM0oj",
    "outputId": "6ada88e0-09fa-43cd-fd8f-5ab8b66f9e8b"
   },
   "source": [
    "from dgl.nn import GraphConv\n",
    "\n",
    "class GCN(nn.Module):\n",
    "    def __init__(self, in_feats, h_feats, num_classes):\n",
    "        super(GCN, self).__init__()\n",
    "        self.conv1 = dgl.nn.GraphConv(in_feats, h_feats)\n",
    "        self.conv2 = GraphConv(h_feats, num_classes)\n",
    "    \n",
    "    def forward(self, g, in_feat):\n",
    "        h = self.conv1(g, in_feat)\n",
    "        h = F.relu(h)\n",
    "        h = self.conv2(g, h)\n",
    "        return h\n",
    "    \n",
    "# Create the model with given dimensions\n",
    "print(\"features dim: \", g.ndata['feat'].shape[1])\n",
    "# model = GCN(g.ndata['feat'].shape[1], 16, dataset.num_classes)\n"
   ],
   "execution_count": 5,
   "outputs": [
    {
     "name": "stdout",
     "output_type": "stream",
     "text": [
      "features dim:  1433\n"
     ]
    }
   ]
  },
  {
   "cell_type": "code",
   "metadata": {
    "id": "oHPdrFCQOEQf"
   },
   "source": [
    "\n",
    "def train(g, model):\n",
    "    optimizer = torch.optim.Adam(model.parameters(), lr=0.01)\n",
    "    best_val_acc = 0\n",
    "    best_test_acc = 0\n",
    "\n",
    "    features = g.ndata['feat']\n",
    "    labels = g.ndata['label']\n",
    "    train_mask = g.ndata['train_mask']\n",
    "    val_mask = g.ndata['val_mask']\n",
    "    test_mask = g.ndata['test_mask']\n",
    "    for e in range(100):\n",
    "        # Forward\n",
    "        logits = model(g, features)\n",
    "\n",
    "        # Compute prediction\n",
    "        pred = logits.argmax(1)\n",
    "\n",
    "        # Compute loss\n",
    "        # Note that you should only compute the losses of the nodes in the training set.\n",
    "        loss = F.cross_entropy(logits[train_mask], labels[train_mask])\n",
    "\n",
    "        # Compute accuracy on training/validation/test\n",
    "        train_acc = (pred[train_mask] == labels[train_mask]).float().mean()\n",
    "        val_acc = (pred[val_mask] == labels[val_mask]).float().mean()\n",
    "        test_acc = (pred[test_mask] == labels[test_mask]).float().mean()\n",
    "\n",
    "        # Save the best validation accuracy and the corresponding test accuracy.\n",
    "        if best_val_acc < val_acc:\n",
    "            best_val_acc = val_acc\n",
    "            best_test_acc = test_acc\n",
    "\n",
    "        # Backward\n",
    "        optimizer.zero_grad()\n",
    "        loss.backward()\n",
    "        optimizer.step()\n",
    "\n",
    "        if e % 5 == 0:\n",
    "            print('In epoch {}, loss: {:.3f}, val acc: {:.3f} (best {:.3f}), test acc: {:.3f} (best {:.3f})'.format(\n",
    "                e, loss, val_acc, best_val_acc, test_acc, best_test_acc))\n"
   ],
   "execution_count": 6,
   "outputs": []
  },
  {
   "cell_type": "code",
   "metadata": {
    "colab": {
     "base_uri": "https://localhost:8080/"
    },
    "id": "nr0383slQQ1n",
    "outputId": "139ebe5f-cadf-4a3d-e56b-aeb90651a27e"
   },
   "source": [
    "#g = g.to('cuda')\n",
    "model = GCN(g.ndata['feat'].shape[1], 16, dataset.num_classes) #.to('cuda')\n",
    "train(g, model)\n",
    "print(\"\\nfinished training GCN\")"
   ],
   "execution_count": 7,
   "outputs": [
    {
     "name": "stdout",
     "output_type": "stream",
     "text": [
      "In epoch 0, loss: 1.946, val acc: 0.168 (best 0.168), test acc: 0.176 (best 0.176)\n",
      "In epoch 5, loss: 1.885, val acc: 0.610 (best 0.610), test acc: 0.630 (best 0.630)\n",
      "In epoch 10, loss: 1.797, val acc: 0.676 (best 0.694), test acc: 0.702 (best 0.719)\n",
      "In epoch 15, loss: 1.685, val acc: 0.690 (best 0.694), test acc: 0.715 (best 0.719)\n",
      "In epoch 20, loss: 1.548, val acc: 0.700 (best 0.702), test acc: 0.715 (best 0.716)\n",
      "In epoch 25, loss: 1.389, val acc: 0.716 (best 0.720), test acc: 0.736 (best 0.726)\n",
      "In epoch 30, loss: 1.216, val acc: 0.726 (best 0.726), test acc: 0.752 (best 0.752)\n",
      "In epoch 35, loss: 1.037, val acc: 0.736 (best 0.736), test acc: 0.750 (best 0.748)\n",
      "In epoch 40, loss: 0.863, val acc: 0.746 (best 0.746), test acc: 0.756 (best 0.756)\n",
      "In epoch 45, loss: 0.704, val acc: 0.744 (best 0.748), test acc: 0.764 (best 0.760)\n",
      "In epoch 50, loss: 0.566, val acc: 0.756 (best 0.756), test acc: 0.774 (best 0.774)\n",
      "In epoch 55, loss: 0.451, val acc: 0.766 (best 0.766), test acc: 0.782 (best 0.779)\n",
      "In epoch 60, loss: 0.360, val acc: 0.762 (best 0.766), test acc: 0.783 (best 0.779)\n",
      "In epoch 65, loss: 0.288, val acc: 0.764 (best 0.766), test acc: 0.788 (best 0.779)\n",
      "In epoch 70, loss: 0.232, val acc: 0.768 (best 0.768), test acc: 0.786 (best 0.787)\n",
      "In epoch 75, loss: 0.189, val acc: 0.766 (best 0.768), test acc: 0.788 (best 0.787)\n",
      "In epoch 80, loss: 0.156, val acc: 0.762 (best 0.768), test acc: 0.779 (best 0.787)\n",
      "In epoch 85, loss: 0.129, val acc: 0.764 (best 0.768), test acc: 0.784 (best 0.787)\n",
      "In epoch 90, loss: 0.109, val acc: 0.764 (best 0.768), test acc: 0.784 (best 0.787)\n",
      "In epoch 95, loss: 0.093, val acc: 0.766 (best 0.768), test acc: 0.784 (best 0.787)\n",
      "\n",
      "finished training GCN\n"
     ]
    }
   ]
  },
  {
   "cell_type": "code",
   "metadata": {
    "colab": {
     "base_uri": "https://localhost:8080/"
    },
    "id": "kdPwF8QTjgHu",
    "outputId": "14dcae80-388b-44bd-ebfa-882318c6f1bd"
   },
   "source": [
    "print(\"hello gur\")"
   ],
   "execution_count": 8,
   "outputs": [
    {
     "name": "stdout",
     "output_type": "stream",
     "text": [
      "hello gur\n"
     ]
    }
   ]
  },
  {
   "cell_type": "code",
   "metadata": {
    "id": "RuYHHF_Mjkv1"
   },
   "source": [
    ""
   ],
   "execution_count": 8,
   "outputs": []
  }
 ]
}